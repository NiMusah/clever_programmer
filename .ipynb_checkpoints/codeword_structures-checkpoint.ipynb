{
 "cells": [
  {
   "cell_type": "code",
   "execution_count": 1,
   "metadata": {},
   "outputs": [
    {
     "name": "stdout",
     "output_type": "stream",
     "text": [
      "[2010, 2011, 2012, 2013, 2014, 2015, 2016, 2017, 2018, 2019, 2020]\n"
     ]
    }
   ],
   "source": [
    "decade=[2010, 2011, 2012, 2013, 2014, 2015,2016, 2017, 2018, 2019, 2020]\n",
    "print(decade)"
   ]
  },
  {
   "cell_type": "markdown",
   "metadata": {},
   "source": [
    "# Striding"
   ]
  },
  {
   "cell_type": "markdown",
   "metadata": {},
   "source": [
    "This basic example of striding will print out the years in my decade variable in increments of 2 years which is specified by the 2 within the print() function parameters\n",
    "Striding takes the form of variable name(decade) plus the start point in the slicing operation and the end point in the slicing operation enclosed with the print() function's parameters.\n",
    "\n",
    "Therefore, print(decade[start:stop:increment value])"
   ]
  },
  {
   "cell_type": "code",
   "execution_count": 2,
   "metadata": {},
   "outputs": [
    {
     "name": "stdout",
     "output_type": "stream",
     "text": [
      "[2010, 2012, 2014, 2016, 2018, 2020]\n"
     ]
    }
   ],
   "source": [
    "print(decade[0:11:2])"
   ]
  },
  {
   "cell_type": "markdown",
   "metadata": {},
   "source": [
    "Something to take note of is the direction of the slicing given the presence of either a negative start, stop or stride/increment value.\n",
    "The use of a negative increment/stride value reverses the order of the start and stop values\n",
    "\n",
    "As a result the code: print(decade[0:11:-2]) will give you a different result compared to: print(decade[11:0:-2])\n",
    "    "
   ]
  },
  {
   "cell_type": "code",
   "execution_count": 3,
   "metadata": {},
   "outputs": [
    {
     "name": "stdout",
     "output_type": "stream",
     "text": [
      "[2020, 2018, 2016, 2014, 2012]\n"
     ]
    }
   ],
   "source": [
    "print(decade[11:0:-2])"
   ]
  },
  {
   "cell_type": "code",
   "execution_count": 4,
   "metadata": {},
   "outputs": [
    {
     "name": "stdout",
     "output_type": "stream",
     "text": [
      "[]\n",
      "[2010]\n",
      "[2010, 2011]\n",
      "[2010, 2011, 2012]\n",
      "[2010, 2011, 2012, 2013]\n",
      "[2010, 2011, 2012, 2013, 2014]\n",
      "[2010, 2011, 2012, 2013, 2014, 2015]\n",
      "[2010, 2011, 2012, 2013, 2014, 2015, 2016]\n",
      "[2010, 2011, 2012, 2013, 2014, 2015, 2016, 2017]\n",
      "[2010, 2011, 2012, 2013, 2014, 2015, 2016, 2017, 2018]\n",
      "[2010, 2011, 2012, 2013, 2014, 2015, 2016, 2017, 2018, 2019]\n"
     ]
    }
   ],
   "source": [
    "for i in range(len(decade)):\n",
    "    print(decade[:i])"
   ]
  },
  {
   "cell_type": "code",
   "execution_count": 5,
   "metadata": {},
   "outputs": [
    {
     "name": "stdout",
     "output_type": "stream",
     "text": [
      "[]\n",
      "[2010, 2011, 2012, 2013, 2014, 2015, 2016, 2017, 2018, 2019]\n",
      "[2010, 2011, 2012, 2013, 2014, 2015, 2016, 2017, 2018]\n",
      "[2010, 2011, 2012, 2013, 2014, 2015, 2016, 2017]\n",
      "[2010, 2011, 2012, 2013, 2014, 2015, 2016]\n",
      "[2010, 2011, 2012, 2013, 2014, 2015]\n",
      "[2010, 2011, 2012, 2013, 2014]\n",
      "[2010, 2011, 2012, 2013]\n",
      "[2010, 2011, 2012]\n",
      "[2010, 2011]\n",
      "[2010]\n"
     ]
    }
   ],
   "source": [
    "for i in range(len(decade)):\n",
    "    print(decade[:-i])"
   ]
  },
  {
   "cell_type": "code",
   "execution_count": 6,
   "metadata": {},
   "outputs": [
    {
     "name": "stdout",
     "output_type": "stream",
     "text": [
      "[]\n",
      "[]\n",
      "[2010]\n",
      "[2010, 2011, 2012, 2013, 2014, 2015, 2016, 2017, 2018, 2019]\n",
      "[2010, 2011]\n",
      "[2010, 2011, 2012, 2013, 2014, 2015, 2016, 2017, 2018]\n",
      "[2010, 2011, 2012]\n",
      "[2010, 2011, 2012, 2013, 2014, 2015, 2016, 2017]\n",
      "[2010, 2011, 2012, 2013]\n",
      "[2010, 2011, 2012, 2013, 2014, 2015, 2016]\n",
      "[2010, 2011, 2012, 2013, 2014]\n",
      "[2010, 2011, 2012, 2013, 2014, 2015]\n",
      "[2010, 2011, 2012, 2013, 2014, 2015]\n",
      "[2010, 2011, 2012, 2013, 2014]\n",
      "[2010, 2011, 2012, 2013, 2014, 2015, 2016]\n",
      "[2010, 2011, 2012, 2013]\n",
      "[2010, 2011, 2012, 2013, 2014, 2015, 2016, 2017]\n",
      "[2010, 2011, 2012]\n",
      "[2010, 2011, 2012, 2013, 2014, 2015, 2016, 2017, 2018]\n",
      "[2010, 2011]\n",
      "[2010, 2011, 2012, 2013, 2014, 2015, 2016, 2017, 2018, 2019]\n",
      "[2010]\n"
     ]
    }
   ],
   "source": [
    "for i in range(len(decade)):\n",
    "    print(decade[:i])\n",
    "    print(decade[:-i])"
   ]
  },
  {
   "cell_type": "markdown",
   "metadata": {},
   "source": [
    "Let us try something out.\n",
    "If we wanted to print out the elements in the array in every possible combination in sets of three years we could try the following:\n"
   ]
  },
  {
   "cell_type": "code",
   "execution_count": 7,
   "metadata": {},
   "outputs": [
    {
     "name": "stdout",
     "output_type": "stream",
     "text": [
      "[2010, 2011, 2012]\n",
      "[2011, 2012, 2013]\n",
      "[2012, 2013, 2014]\n",
      "[2013, 2014, 2015]\n",
      "[2014, 2015, 2016]\n",
      "[2015, 2016, 2017]\n",
      "[2016, 2017, 2018]\n",
      "[2017, 2018, 2019]\n",
      "[2018, 2019, 2020]\n"
     ]
    }
   ],
   "source": [
    "presidential_term=3\n",
    "\n",
    "for i in range(len(decade)-(presidential_term-1)):\n",
    "    print(decade[i:i+presidential_term])"
   ]
  },
  {
   "cell_type": "markdown",
   "metadata": {},
   "source": [
    "A challenge for me will be the following:\n",
    "\n",
    "If ections in Kenya were supposed to happen every 3 years, that is, the president is supposed to have 3 year terms before we go back to the ballot.\n",
    "\n",
    "Print the years in the decade variable in possible combinations of the presidential terms i.e. the years should be printed out in chunks of 3 years.\n",
    "For instance: [2010, 2011, 2012], [2013, 2014, 2015] and so on"
   ]
  },
  {
   "cell_type": "code",
   "execution_count": 8,
   "metadata": {},
   "outputs": [
    {
     "data": {
      "text/plain": [
       "'\\nduration = 3\\n\\nfor i in range(len(decade)):\\n    print(decade[:i+duration])\\n    \\n'"
      ]
     },
     "execution_count": 8,
     "metadata": {},
     "output_type": "execute_result"
    }
   ],
   "source": [
    "#I need to do some work on this\n",
    "#To be continued, bare with me\n",
    "\n",
    "'''\n",
    "duration = 3\n",
    "\n",
    "for i in range(len(decade)):\n",
    "    print(decade[:i+duration])\n",
    "    \n",
    "'''"
   ]
  },
  {
   "cell_type": "markdown",
   "metadata": {},
   "source": [
    "# Splitting and joining stuff"
   ]
  },
  {
   "cell_type": "code",
   "execution_count": 9,
   "metadata": {},
   "outputs": [
    {
     "name": "stdout",
     "output_type": "stream",
     "text": [
      "Moses, Belindah\n"
     ]
    }
   ],
   "source": [
    "#Let's say two people called 'man' and 'woman' fancy each other\n",
    "#Both these people are members of a church, mosque or any other religious congregation\n",
    "#Their details are stored in a csv file on the religious congregation's official PC, for instance\n",
    "#This would mean that in the sense of a data structure their details would look like this:\n",
    "#DISCLAIMER: ALL OF THIS IS HYPOTHECAL AND MAY NOT REPRESENT THE BEST WAY TO TACKLE THIS PROBLEM\n",
    "\n",
    "\n",
    "members='Moses, Belindah'\n",
    "print(members)"
   ]
  },
  {
   "cell_type": "code",
   "execution_count": 10,
   "metadata": {},
   "outputs": [
    {
     "name": "stdout",
     "output_type": "stream",
     "text": [
      "['Moses', ' Belindah']\n"
     ]
    }
   ],
   "source": [
    "#If the church wanted to be data savvy and embarked on a data science journey annointed by God\n",
    "#The congregation would have to rely on Python which could require the member details to be stored in a list\n",
    "#This is because lists are more flexible\n",
    "#We do this by using the SPLIT function\n",
    "\n",
    "data_savvy= members.split(\",\")\n",
    "print(data_savvy)"
   ]
  },
  {
   "cell_type": "code",
   "execution_count": 11,
   "metadata": {},
   "outputs": [
    {
     "name": "stdout",
     "output_type": "stream",
     "text": [
      "Moses weds Belindah\n"
     ]
    }
   ],
   "source": [
    "#When we print out the variable which now stores the member details in a list, we get the above\n",
    "#The list with the member names allows for the data savvy congregation to better manipulate the elements with it\n",
    "#This goes a long way in ensuring the annointed data science journey generates a blessing\n",
    "\n",
    "#The blessing could take the form of a marriage\n",
    "#For example Belinda weds Moses or Moses weds Belinda depending on whether you spiritual leader is Pst. Ng'anga\n",
    "#Therefore, the man and woman left there homes and/or parents and JOINED in holy matrimony\n",
    "\n",
    "marriage=' weds'.join(data_savvy)\n",
    "print(marriage)"
   ]
  },
  {
   "cell_type": "markdown",
   "metadata": {},
   "source": [
    "# Tuples\n",
    "### Unpacking Tuples\n",
    "\n",
    "From my understanding, unpacking of tuples comes about due to the fact that tuples are immutable objects/data structures and manipulation of its values/objects can be challenging.\n",
    "\n",
    "Manipulating the values in a tuple, could require leveraging other data structures/objects that are mutable. Mutability comes from the idea of mutation, that is, an object can change. This change can come from an addition of values to an object/data structure and an ordering of sorts of the values within the data structure can be achieved among other operations."
   ]
  },
  {
   "cell_type": "code",
   "execution_count": 89,
   "metadata": {},
   "outputs": [
    {
     "name": "stdout",
     "output_type": "stream",
     "text": [
      "('PEFA', 'Nairobi', 'Thika', 'Bungoma')\n",
      "('Msq.1', 'Jumuia', 'Mombasa', 'Kisumu')\n"
     ]
    }
   ],
   "source": [
    "churches=(\"PEFA\", \"Nairobi\", \"Thika\", \"Bungoma\")\n",
    "mosques=(\"Msq.1\", \"Jumuia\", \"Mombasa\", \"Kisumu\")\n",
    "\n",
    "print(churches)\n",
    "print(mosques)"
   ]
  },
  {
   "cell_type": "code",
   "execution_count": 96,
   "metadata": {},
   "outputs": [
    {
     "name": "stdout",
     "output_type": "stream",
     "text": [
      "PEFA\n",
      "Nairobi\n",
      "Thika\n",
      "Bungoma\n"
     ]
    }
   ],
   "source": [
    "#Due to the fixed/stringent structure of the tuples, we may need to unpack the above variables\n",
    "#Stroing their elements in a list(s) may deliver on this\n",
    "#We leverage four variables (cname, cbranch1, cbranch2, cbranch3) for this as shown below\n",
    "\n",
    "name, branch1, branch2, branch3=churches\n",
    "\n",
    "#Printing out the individual variables (cname, cbranch1, cbranch2, cbranch3) enables us to unpack the tuples\n",
    "#This is somehing this is not possible for tuples in their original state\n",
    "\n",
    "\n",
    "print(name)\n",
    "print(branch1)\n",
    "print(branch2)\n",
    "print(branch3)"
   ]
  },
  {
   "cell_type": "code",
   "execution_count": 97,
   "metadata": {},
   "outputs": [
    {
     "name": "stdout",
     "output_type": "stream",
     "text": [
      "[('PEFA', 'Nairobi', 'Thika', 'Bungoma'), ('Msq.1', 'Jumuia', 'Mombasa', 'Kisumu')]\n"
     ]
    }
   ],
   "source": [
    "#Let us store the details in our tuples in a variable which leverages lists, just to build on this concept\n",
    "\n",
    "denominations=[churches, mosques]\n",
    "print(denominations)\n"
   ]
  },
  {
   "cell_type": "code",
   "execution_count": 98,
   "metadata": {},
   "outputs": [
    {
     "name": "stdout",
     "output_type": "stream",
     "text": [
      "PEFA\n",
      "Nairobi\n",
      "Thika\n",
      "Bungoma\n",
      "\n",
      "Msq.1\n",
      "Jumuia\n",
      "Mombasa\n",
      "Kisumu\n",
      "\n"
     ]
    }
   ],
   "source": [
    "#To unpack the details of each of the original tuples, we could leverage the power of the for loop\n",
    "#Here it goes:\n",
    "\n",
    "for name, branch1, branch2, branch3 in denominations:\n",
    "    print(name)\n",
    "    print(branch1)\n",
    "    print(branch2)\n",
    "    print(branch3)\n",
    "    print()\n",
    "\n",
    "    \n",
    "# This is how we could manipulate tuples using the power of lists without compromising the integrity of our original tuples\n"
   ]
  },
  {
   "cell_type": "markdown",
   "metadata": {},
   "source": [
    "# Sets"
   ]
  },
  {
   "cell_type": "code",
   "execution_count": null,
   "metadata": {},
   "outputs": [],
   "source": [
    "#Sets are a data structure in Python that offer unique capabilities\n",
    "#A capability that sets it aside is its ability to only hold unique values\n",
    "#Unlike lists, sets are known to abhor duplicates\n",
    "#This is a characteristics that the other data structures can make use of\n",
    "#To illustrate this, lets create a list\n",
    "\n",
    "customers=['Anne', 'Daisy', 'Anne', 'Oscar', 'Joel', 'David', 'Joel', 'John', 'Oscar']"
   ]
  },
  {
   "cell_type": "code",
   "execution_count": 102,
   "metadata": {},
   "outputs": [
    {
     "name": "stdout",
     "output_type": "stream",
     "text": [
      "{'David', 'Joel', 'Oscar', 'Anne', 'John', 'Daisy'}\n"
     ]
    }
   ],
   "source": [
    "#The variable customers holds a list of customer first names\n",
    "#First names are known to be common across the world and therefore a busines could have many customers named 'John'\n",
    "#If a data analysis exercise only required unique first to be as a variable of choice, the customers list could use a set\n",
    "\n",
    "customers=['Anne', 'Daisy', 'Anne', 'Oscar', 'Joel', 'David', 'Joel', 'John', 'Oscar']\n",
    "unique_customers=set(customers)\n",
    "print(unique_customers)"
   ]
  },
  {
   "cell_type": "code",
   "execution_count": 104,
   "metadata": {},
   "outputs": [
    {
     "name": "stdout",
     "output_type": "stream",
     "text": [
      "['David', 'Joel', 'Oscar', 'Anne', 'John', 'Daisy']\n"
     ]
    }
   ],
   "source": [
    "#At this point we have a set of unique customer names given the fact that sets do not allow duplicates\n",
    "#This unique_customers set can now be cast back to a list, its original data structure\n",
    "#Casting it back enables us to have a list with only unique values\n",
    "\n",
    "customers=list(unique_customers)\n",
    "print(customers)"
   ]
  },
  {
   "cell_type": "markdown",
   "metadata": {},
   "source": [
    "###### A few set functions"
   ]
  },
  {
   "cell_type": "code",
   "execution_count": 99,
   "metadata": {},
   "outputs": [
    {
     "name": "stdout",
     "output_type": "stream",
     "text": [
      "{'Joho', 'Mudavadi', 'The Late Saitoti', 'Ruto', 'Orengo', 'Kibaki', 'Uhuru', 'Raila'}\n"
     ]
    }
   ],
   "source": [
    "ODM= {\"Raila\", \"Orengo\", \"Joho\", \"Ruto\", \"Mudavadi\"}\n",
    "PNU= {\"Kibaki\", \"Uhuru\", \"Raila\", \"The Late Saitoti\", \"Mudavadi\"}\n",
    "\n",
    "# To get all the political players using the ODM and PNU variables would require a UNION of the two variables\n",
    "\n",
    "political_players= ODM.union(PNU)\n",
    "print(party_members)"
   ]
  },
  {
   "cell_type": "code",
   "execution_count": 100,
   "metadata": {},
   "outputs": [
    {
     "name": "stdout",
     "output_type": "stream",
     "text": [
      "{'Mudavadi', 'Raila'}\n"
     ]
    }
   ],
   "source": [
    "#How do we get the political players who have been a member of the two parties at any particular point in time?\n",
    "#We leverage the INTERSECTION function\n",
    "\n",
    "tanga_tanga= ODM.intersection(PNU)\n",
    "print(tanga_tanga)\n",
    "\n",
    "#We will get Mudavadi and Raila as the political players who have been members of both parties"
   ]
  },
  {
   "cell_type": "code",
   "execution_count": 105,
   "metadata": {},
   "outputs": [
    {
     "name": "stdout",
     "output_type": "stream",
     "text": [
      "{'Joho', 'Orengo', 'Ruto'}\n"
     ]
    }
   ],
   "source": [
    "#If we wanted to know the political players that are staunch ODM members we could leverage the difference() function\n",
    "#The difference() function will show values in a set that unique to if we are comparing it to another set\n",
    "\n",
    "odm_damu=ODM.difference(PNU)\n",
    "print(odm_damu)"
   ]
  },
  {
   "cell_type": "code",
   "execution_count": 106,
   "metadata": {},
   "outputs": [
    {
     "name": "stdout",
     "output_type": "stream",
     "text": [
      "{'Kibaki', 'Uhuru', 'The Late Saitoti'}\n"
     ]
    }
   ],
   "source": [
    "#Technically, the difference() function behaves like a left join\n",
    "#It only gives value that are in the first variable/object with no regard for the other\n",
    "#Towards this, let us try to get the staunch PNU party members\n",
    "\n",
    "pnu_damu=PNU.difference(ODM)\n",
    "print(pnu_damu)"
   ]
  },
  {
   "cell_type": "markdown",
   "metadata": {},
   "source": [
    "# List Comprehensions\n",
    "\n",
    "List comprehensions provide a smart and concise way of creating lists by iterating over an iterable object. They are constructs that allow sequences to be built from other sequences.\n",
    "\n",
    "These constructs may consist of:\n",
    "1. For clauses (optional predicate expression)\n",
    "2. If clauses (optional predicate expression)\n",
    "3. An input sequence- mostly lists\n",
    "4. A variable representing members of the input sequence\n",
    "5. A variable representing members that are to be recieved from the input sequence"
   ]
  },
  {
   "cell_type": "code",
   "execution_count": 13,
   "metadata": {},
   "outputs": [
    {
     "name": "stdout",
     "output_type": "stream",
     "text": [
      "['Moses', 'Belinda', 'Mah', 'Seth', 'Golda', 'Mercy']\n"
     ]
    }
   ],
   "source": [
    "#Create a list of names\n",
    "\n",
    "names= ['Moses', 'Belinda', 'Mah', 'Seth', 'Golda', 'Mercy']\n",
    "\n",
    "#Create another blank list that we wish to append the values in names to\n",
    "\n",
    "family= []\n",
    "\n",
    "#To iterate through each of the values in the variable names, we use a for loop and an append method\n",
    "\n",
    "for person in names:\n",
    "    family.append(person)\n",
    "    \n",
    "print(family)"
   ]
  },
  {
   "cell_type": "code",
   "execution_count": 16,
   "metadata": {},
   "outputs": [
    {
     "name": "stdout",
     "output_type": "stream",
     "text": [
      "['Moses', 'Belinda', 'Mah', 'Seth', 'Golda', 'Mercy']\n"
     ]
    }
   ],
   "source": [
    "#As usual, there is another way of doing this\n",
    "#Create a list of names\n",
    "\n",
    "names= ['Moses', 'Belinda', 'Mah', 'Seth', 'Golda', 'Mercy']\n",
    "\n",
    "#To iterate through each of the values in the list and append said value to a new list, we leverage a for loop\n",
    "#List comprehension\n",
    "\n",
    "print([family for family in names])"
   ]
  },
  {
   "cell_type": "code",
   "execution_count": 17,
   "metadata": {},
   "outputs": [
    {
     "name": "stdout",
     "output_type": "stream",
     "text": [
      "['Barry is my colleague', 'Neville is my colleague', 'Ken is my colleague', 'Becky is my colleague']\n"
     ]
    }
   ],
   "source": [
    "#Create an input sequence(list) and a variable to hold it\n",
    "\n",
    "sequence_in= ['Barry', 'Neville', 'Ken', 'Becky']\n",
    "\n",
    "#Create an empty list that receives values from the input sequence\n",
    "\n",
    "sequence_out=[]\n",
    "\n",
    "#To iterate over the input sequence we will leverage a for loop \n",
    "\n",
    "for names in sequence_in:\n",
    "    sequence_out.append(names + ' is my colleague')\n",
    "    \n",
    "print(sequence_out)"
   ]
  },
  {
   "cell_type": "code",
   "execution_count": 19,
   "metadata": {},
   "outputs": [
    {
     "name": "stdout",
     "output_type": "stream",
     "text": [
      "['Barry M. is my colleague', 'Neville O. is my colleague', 'Ken P. is my colleague', 'Becky G. is my colleague']\n"
     ]
    }
   ],
   "source": [
    "#A different approach to the problem would take the following steps\n",
    "#Create an input sequence(list) and a variable to hold it\n",
    "\n",
    "another_sequence= ['Barry M.', 'Neville O.', 'Ken P.', 'Becky G.']\n",
    "\n",
    "#To iterate over the input sequence we will leverage a for loop \n",
    "\n",
    "print([names + ' is my colleague'  for names in another_sequence])"
   ]
  },
  {
   "cell_type": "code",
   "execution_count": 20,
   "metadata": {},
   "outputs": [
    {
     "name": "stdout",
     "output_type": "stream",
     "text": [
      "['Knives Out', 'Joker', 'Watch Men']\n"
     ]
    }
   ],
   "source": [
    "#Next example:\n",
    "\n",
    "my_ratings= {\"Knives Out\": 9, \"Joker\": 8, \"Watch Men\": 9, \"The Mandalorian\": 7, \"The Witcher\": 7, \"See\": 7}\n",
    "\n",
    "my_favourites=[]\n",
    "\n",
    "for movies in my_ratings:\n",
    "    if my_ratings[movies] > 7:\n",
    "        my_favourites.append(movies)\n",
    "\n",
    "print(my_favourites)"
   ]
  },
  {
   "cell_type": "code",
   "execution_count": 23,
   "metadata": {},
   "outputs": [
    {
     "name": "stdout",
     "output_type": "stream",
     "text": [
      "['Knives Out', 'Joker', 'Watch Men']\n"
     ]
    }
   ],
   "source": [
    "#Another approach with less code:\n",
    "\n",
    "my_ratings_too= {\"Knives Out\": 9, \"Joker\": 8, \"Watch Men\": 9, \"The Mandalorian\": 7, \"The Witcher\": 7, \"See\": 7}\n",
    "\n",
    "print([movies for movies in my_ratings_too if my_ratings_too[movies] > 7])\n"
   ]
  },
  {
   "cell_type": "code",
   "execution_count": null,
   "metadata": {},
   "outputs": [],
   "source": []
  }
 ],
 "metadata": {
  "kernelspec": {
   "display_name": "Python 3",
   "language": "python",
   "name": "python3"
  },
  "language_info": {
   "codemirror_mode": {
    "name": "ipython",
    "version": 3
   },
   "file_extension": ".py",
   "mimetype": "text/x-python",
   "name": "python",
   "nbconvert_exporter": "python",
   "pygments_lexer": "ipython3",
   "version": "3.7.4"
  }
 },
 "nbformat": 4,
 "nbformat_minor": 2
}

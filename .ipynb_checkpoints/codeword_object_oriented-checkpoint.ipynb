{
 "cells": [
  {
   "cell_type": "markdown",
   "metadata": {},
   "source": [
    "# Classes\n",
    "\n",
    "Classes allow us to logically group our data and functions in a way that is easy to reuse and build upon.\n",
    "\n",
    "Data associated with a specific class could be referred to as attributes. \n",
    "\n",
    "Functions associated with a specific class could also be referred to as methods."
   ]
  },
  {
   "cell_type": "code",
   "execution_count": 1,
   "metadata": {},
   "outputs": [],
   "source": [
    "#We are going to create a class that holds employee attributes and methods.\n",
    "#In the initial stages of creating a class or a function and the idea is still in beta stage, using the pass keyword is key\n",
    "#The pass keyword enables python to assume the object execution at that particular point in time\n",
    "\n",
    "class Employee:\n",
    "    pass"
   ]
  },
  {
   "cell_type": "code",
   "execution_count": 2,
   "metadata": {},
   "outputs": [
    {
     "name": "stdout",
     "output_type": "stream",
     "text": [
      "<__main__.Employee object at 0x00000194A0FA2A48>\n",
      "<__main__.Employee object at 0x00000194A0FA2A08>\n"
     ]
    }
   ],
   "source": [
    "#A class could be referred to as blueprint for creating an instance of itself\n",
    "#In other words objects/'entries' specific to a class could be referred to as its instances\n",
    "\n",
    "class Employee:\n",
    "    pass\n",
    "emp_1=Employee()\n",
    "emp_2=Employee()\n",
    "\n",
    "#In this sense emp_1 and emp_2 are instances of the Employee class\n",
    "\n",
    "\n",
    "print(emp_1)\n",
    "print(emp_2)"
   ]
  },
  {
   "cell_type": "code",
   "execution_count": 10,
   "metadata": {},
   "outputs": [
    {
     "name": "stdout",
     "output_type": "stream",
     "text": [
      "Joe.Reuben@mail.com\n"
     ]
    }
   ],
   "source": [
    "#However, there are instance and class variables which are distinct in there own way\n",
    "#Class vatriables are objects specific to the class\n",
    "#Instance variables on the other hand, are objects specific to the class' instance\n",
    "#My understanding is that these set of objects are in a hierarchy- Class- Class Variable- Class Instance- Instance Variable\n",
    "#This is not the correct analogy in itself but it is a great way to understand the distinction\n",
    "\n",
    "class Employee:\n",
    "    pass\n",
    "\n",
    "\n",
    "emp_1=Employee()  #Employee class instance\n",
    "emp_2=Employee()  #Employee class instance\n",
    "\n",
    "\n",
    "emp_1.first= 'Joe'                        #first is a variable for the emp_1 class instance\n",
    "emp_1.last= 'Reuben'                      #last is a variable for the emp_1 class instance\n",
    "emp_1.email= 'Joe.Reuben@mail.com'        #email is a variable for the emp_1 class instance\n",
    "emp_1.pay=  '6000'                        #pay is a variable for the emp_1 class instance\n",
    "\n",
    "emp_2.first= 'Jim'                        #first is a variable for the emp_2 class instance\n",
    "emp_2.last= 'Budden'                      #last is a variable for the emp_2 class instance\n",
    "emp_2.email= 'Jim.Budden@mail.com'        #email is a variable for the emp_2 class instance\n",
    "emp_2.pay=  '3000'                        #pay is a variable for the emp_2 class instance\n",
    "\n",
    "\n",
    "print(emp_1.email)\n"
   ]
  },
  {
   "cell_type": "code",
   "execution_count": 11,
   "metadata": {},
   "outputs": [
    {
     "name": "stdout",
     "output_type": "stream",
     "text": [
      "Joe.Reuben@mail.com\n"
     ]
    }
   ],
   "source": [
    "#At this point we have touched on the attributes of the class- technichally, data properties specific to a class\n",
    "#To get the most out of classes and really leverage the object's strengths, we have to introduce the methods\n",
    "#As specified earlier, a method is a function specific to a class\n",
    "#Towards we create an __init__ method ('initialized') within the Employee class where the pass keyword was initially\n",
    "#When creating a method within a class, they recieve the instance of the class as the first arguement automatically (self)\n",
    "#Using method within a class, especially the iniatial method (__init__) is referred to as initializing the class attributes\n",
    "\n",
    "\n",
    "class Employee:\n",
    "    def __init__(self, first, last, pay):\n",
    "        self.first=first\n",
    "        self.last=last\n",
    "        self.pay=pay\n",
    "        self.email=first + '.' + last + '@mail.com'\n",
    "\n",
    "\n",
    "#The self arguement refers to the emp_1 and emp_2 instances created below \n",
    "#Therefore the variables can be passed directly to the instance instead of typing them out indiviadually as we had done\n",
    "#Remember we had emp_1.first='Joe', we can now avoid this by passing the attributes to the instance directly\n",
    "#The method will then take care of the rest\n",
    "\n",
    "\n",
    "emp_1=Employee('Joe', 'Reuben', '6000')  #The variables should match the first, last, pay arguments in the method\n",
    "emp_2=Employee('Jim', 'Budden', '3000' ) #The variables should match the first, last, pay arguments in the method\n",
    "\n",
    "print(emp_1.email)\n"
   ]
  },
  {
   "cell_type": "code",
   "execution_count": 16,
   "metadata": {},
   "outputs": [
    {
     "name": "stdout",
     "output_type": "stream",
     "text": [
      "Joe\n",
      "Reuben\n",
      "\n",
      "Joe Reuben\n"
     ]
    }
   ],
   "source": [
    "#If a problem arose and teh managers wanted the names to be printed out/retrived in full- first+last\n",
    "#One way to go about it would be to create another method that can dynamically do this for us\n",
    "#This might not be the best way to tackle the probelm but it will be a good way to better understand methods\n",
    "#Using method within a class, especially the iniatial method (__init__) is referred to as initializing the class attributes\n",
    "\n",
    "\n",
    "class Employee:\n",
    "    def __init__(self, first, last, pay):\n",
    "        self.first=first\n",
    "        self.last=last\n",
    "        self.pay=pay\n",
    "        self.email=first + '.' + last + '@mail.com'\n",
    "        \n",
    "        \n",
    "    def full_name(self):\n",
    "        return '{} {}'.format(self.first, self.last)\n",
    "\n",
    "\n",
    "#The self arguement refers to the emp_1 and emp_2 instances created below \n",
    "#Leveraging them using the self arguemnt in the full_name method is key\n",
    "#We therefore do not have to type emp_1.first and emp_1.last then do the same for emp_2.first and emp_2.last\n",
    "#By using self as an arguement automaticall calls the class instances \n",
    "\n",
    "emp_1=Employee('Joe', 'Reuben', '6000')  #The variables should match the first, last, pay arguments in the method\n",
    "emp_2=Employee('Jim', 'Budden', '3000' ) #The variables should match the first, last, pay arguments in the method\n",
    "\n",
    "print(emp_1.first)          #This prints out the first name of emp_1 \n",
    "print(emp_1.last)           #This prints out the last name of emp_1 \n",
    "print()\n",
    "print(emp_1.full_name())    #This leverages the full_name method to concatenate the two"
   ]
  },
  {
   "cell_type": "code",
   "execution_count": null,
   "metadata": {},
   "outputs": [],
   "source": []
  }
 ],
 "metadata": {
  "kernelspec": {
   "display_name": "Python 3",
   "language": "python",
   "name": "python3"
  },
  "language_info": {
   "codemirror_mode": {
    "name": "ipython",
    "version": 3
   },
   "file_extension": ".py",
   "mimetype": "text/x-python",
   "name": "python",
   "nbconvert_exporter": "python",
   "pygments_lexer": "ipython3",
   "version": "3.7.4"
  }
 },
 "nbformat": 4,
 "nbformat_minor": 2
}

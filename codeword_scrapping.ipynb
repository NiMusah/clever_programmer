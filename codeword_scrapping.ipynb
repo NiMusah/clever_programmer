{
 "cells": [
  {
   "cell_type": "markdown",
   "metadata": {},
   "source": [
    "# California Weather Report"
   ]
  },
  {
   "cell_type": "code",
   "execution_count": 48,
   "metadata": {},
   "outputs": [],
   "source": [
    "import pandas as pd\n",
    "import requests\n",
    "from bs4 import BeautifulSoup"
   ]
  },
  {
   "cell_type": "code",
   "execution_count": 32,
   "metadata": {},
   "outputs": [],
   "source": [
    "#Due to the amount of data printed out, most of the print methods are commmented out"
   ]
  },
  {
   "cell_type": "code",
   "execution_count": 40,
   "metadata": {},
   "outputs": [],
   "source": [
    "page=requests.get('https://forecast.weather.gov/MapClick.php?lat=34.09979000000004&lon=-118.32721499999997')\n",
    "soup= BeautifulSoup(page.content, 'html.parser')\n",
    "\n",
    "#The section of the website with the Seven day forecasts seem to be listed under 'seven-day-forecast-body' id\n",
    "#kindly store this is a variable called week\n",
    "\n",
    "week= soup.find(id='seven-day-forecast-body')\n",
    "#print(week)\n",
    "\n",
    "#Under seven-day-forecast-body, the daily forecasts are stored in an organized list that store the daily forecast details\n",
    "#Print it out from the week variable to investigate the html code is set up\n",
    "\n",
    "#print(week.find_all('li'))"
   ]
  },
  {
   "cell_type": "code",
   "execution_count": 42,
   "metadata": {},
   "outputs": [],
   "source": [
    "#The above code shows us that listed items(li) have a class within it called 'forecast-tombstone'\n",
    "#Let's check it out\n",
    "\n",
    "#print(week.find_all(class_='forecast-tombstone'))\n",
    "\n",
    "#This shoul be more precise"
   ]
  },
  {
   "cell_type": "code",
   "execution_count": 49,
   "metadata": {},
   "outputs": [
    {
     "name": "stdout",
     "output_type": "stream",
     "text": [
      "<div class=\"tombstone-container\">\n",
      "<p class=\"period-name\">NOW until<br/>3:00pm Tue</p>\n",
      "<p><img alt=\"\" class=\"forecast-icon\" src=\"newimages/medium/bkn.png\" title=\"\"/></p><p class=\"short-desc\">Wind Advisory</p></div>\n"
     ]
    }
   ],
   "source": [
    "#The above code shows us that the actual forecast details are stored in a class called 'tombstone-container'\n",
    "#Let's check it out\n",
    "\n",
    "#print(week.find_all(class_='tombstone-container'))\n",
    "\n",
    "#let us store these details in a variable for better manipulation\n",
    "items=week.find_all(class_='tombstone-container')\n",
    "\n",
    "#We will then go ahead and print the first item in the utems variable we have just created \n",
    "\n",
    "print(items[0])\n",
    "\n",
    "#This shoul be more precise"
   ]
  },
  {
   "cell_type": "code",
   "execution_count": 59,
   "metadata": {},
   "outputs": [
    {
     "name": "stdout",
     "output_type": "stream",
     "text": [
      "Today\n",
      "Partly Sunny\n",
      "High: 60 °F\n"
     ]
    }
   ],
   "source": [
    "print(items[1].find(class_='period-name').get_text())\n",
    "print(items[1].find(class_='short-desc').get_text())\n",
    "print(items[1].find(class_='temp').get_text())"
   ]
  },
  {
   "cell_type": "code",
   "execution_count": 71,
   "metadata": {},
   "outputs": [
    {
     "name": "stdout",
     "output_type": "stream",
     "text": [
      "['Today', 'Tonight', 'Tuesday', 'TuesdayNight', \"NewYear'sDay\", 'WednesdayNight', 'Thursday', 'ThursdayNight']\n"
     ]
    }
   ],
   "source": [
    "#Period names variable creation, to hold time details, using list comprehension\n",
    "\n",
    "items=week.find_all(class_='tombstone-container')\n",
    "period_names=[]\n",
    "\n",
    "for item in items:\n",
    "    if item != items[0]:\n",
    "        period_names.append(item.find(class_='period-name').get_text())\n",
    "    \n",
    "print(period_names)    "
   ]
  },
  {
   "cell_type": "code",
   "execution_count": 72,
   "metadata": {},
   "outputs": [
    {
     "name": "stdout",
     "output_type": "stream",
     "text": [
      "['Partly Sunny', 'Partly Cloudy', 'Sunny', 'Mostly Clear', 'Sunny', 'Partly Cloudy', 'Mostly Sunny', 'Partly Cloudy']\n"
     ]
    }
   ],
   "source": [
    "#Short descriptions variable creation, to hold weather description details, using list comprehension\n",
    "short_descriptions=[]\n",
    "\n",
    "for item in items:\n",
    "    if item != items[0]:\n",
    "        short_descriptions.append(item.find(class_='short-desc').get_text())\n",
    "    \n",
    "print(short_descriptions)"
   ]
  },
  {
   "cell_type": "code",
   "execution_count": 73,
   "metadata": {},
   "outputs": [
    {
     "name": "stdout",
     "output_type": "stream",
     "text": [
      "['High: 60 °F', 'Low: 46 °F', 'High: 66 °F', 'Low: 46 °F', 'High: 64 °F', 'Low: 47 °F', 'High: 64 °F', 'Low: 48 °F']\n"
     ]
    }
   ],
   "source": [
    "#Temperatures variable creation, to hold temperature details, using list comprehension\n",
    "temperatures=[]\n",
    "\n",
    "for item in items:\n",
    "    if item != items[0]:\n",
    "        temperatures.append(item.find(class_='temp').get_text())\n",
    "    \n",
    "print(temperatures)"
   ]
  },
  {
   "cell_type": "code",
   "execution_count": 75,
   "metadata": {},
   "outputs": [
    {
     "name": "stdout",
     "output_type": "stream",
     "text": [
      "        Date/Time Weather_Details Temperatures\n",
      "0           Today    Partly Sunny  High: 60 °F\n",
      "1         Tonight   Partly Cloudy   Low: 46 °F\n",
      "2         Tuesday           Sunny  High: 66 °F\n",
      "3    TuesdayNight    Mostly Clear   Low: 46 °F\n",
      "4    NewYear'sDay           Sunny  High: 64 °F\n",
      "5  WednesdayNight   Partly Cloudy   Low: 47 °F\n",
      "6        Thursday    Mostly Sunny  High: 64 °F\n",
      "7   ThursdayNight   Partly Cloudy   Low: 48 °F\n"
     ]
    }
   ],
   "source": [
    "#Create a dataframe using pandas to store the weatherforecast details\n",
    "#We rely on the DataFrame() method for this\n",
    "#The DataFrame() method takes in a dictionary\n",
    "#In this sense the key-value pair of the dataframe we create will contain the column headers and its details\n",
    "\n",
    "weather_details= pd.DataFrame(\n",
    "{'Date/Time': period_names,\n",
    " 'Weather_Details': short_descriptions,\n",
    " 'Temperatures': temperatures\n",
    "})\n",
    "\n",
    "#The keys in the key-value pairs of our dataframe will contain the metadata of the variables we created earlier\n",
    "#Therefore the temperatures variable will be used to create the Temperature key and temparatures value\n",
    "\n",
    "print(weather_details)"
   ]
  },
  {
   "cell_type": "code",
   "execution_count": 78,
   "metadata": {},
   "outputs": [],
   "source": [
    "#Having created the dataframe, it is now easier for us to print/save the details to a csv file\n",
    "#Towards this we will leverage the to_csv() method\n",
    "#The to_csv() method provides for a way to specify the csv filename as a parameter/arguement\n",
    "#Having stored the details of our dataframe in the weather_details variable, we will just call it\n",
    "\n",
    "\n",
    "weather_details.to_csv('codeword_scrapping_results.csv')\n",
    "\n",
    "#This csv file will be stored in our directory"
   ]
  },
  {
   "cell_type": "code",
   "execution_count": null,
   "metadata": {},
   "outputs": [],
   "source": []
  }
 ],
 "metadata": {
  "kernelspec": {
   "display_name": "Python 3",
   "language": "python",
   "name": "python3"
  },
  "language_info": {
   "codemirror_mode": {
    "name": "ipython",
    "version": 3
   },
   "file_extension": ".py",
   "mimetype": "text/x-python",
   "name": "python",
   "nbconvert_exporter": "python",
   "pygments_lexer": "ipython3",
   "version": "3.7.4"
  }
 },
 "nbformat": 4,
 "nbformat_minor": 2
}

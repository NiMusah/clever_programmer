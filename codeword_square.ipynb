{
 "cells": [
  {
   "cell_type": "code",
   "execution_count": 21,
   "metadata": {},
   "outputs": [
    {
     "name": "stdout",
     "output_type": "stream",
     "text": [
      "______________________\n",
      "|                    |\n",
      "|                    |\n",
      "|                    |\n",
      "|                    |\n",
      "______________________\n"
     ]
    }
   ],
   "source": [
    "def rectangle():\n",
    "    print(\"______________________\")\n",
    "    print(\"|                    |\")\n",
    "    print(\"|                    |\")\n",
    "    print(\"|                    |\")\n",
    "    print(\"|                    |\")\n",
    "    print(\"______________________\")\n",
    "    \n",
    "rectangle()    "
   ]
  },
  {
   "cell_type": "code",
   "execution_count": 63,
   "metadata": {},
   "outputs": [
    {
     "name": "stdout",
     "output_type": "stream",
     "text": [
      "______________________\n",
      "|                    |\n",
      "|                    |\n",
      "|                    |\n",
      "|                    |\n",
      "______________________\n",
      "______________________\n",
      "|                    |\n",
      "|                    |\n",
      "|                    |\n",
      "|                    |\n",
      "______________________\n"
     ]
    }
   ],
   "source": [
    "for i in range(2):\n",
    "    rectangle()"
   ]
  },
  {
   "cell_type": "code",
   "execution_count": 26,
   "metadata": {},
   "outputs": [
    {
     "name": "stdout",
     "output_type": "stream",
     "text": [
      "____________\n",
      "|          |\n",
      "|          |\n",
      "|          |\n",
      "|          |\n",
      "____________\n"
     ]
    }
   ],
   "source": [
    "def square():\n",
    "    print(\"____________\")\n",
    "    print(\"|          |\")\n",
    "    print(\"|          |\")\n",
    "    print(\"|          |\")\n",
    "    print(\"|          |\")\n",
    "    print(\"____________\")\n",
    "square()\n",
    "\n"
   ]
  },
  {
   "cell_type": "markdown",
   "metadata": {},
   "source": [
    "Printing out shapes can be done in the way I have illustrated above or you could use the turtle module.\n",
    "The module has the forward() and right() function that guide the computer when tracing the lines that make up the shapes.\n",
    "The forward() function requires a parameter that takes a number to signify the steps the line should take.\n",
    "The right() function requires a parameter that takes a number whuch signifies the angle at which the line bends/takes to the next one\n"
   ]
  },
  {
   "cell_type": "code",
   "execution_count": 43,
   "metadata": {},
   "outputs": [
    {
     "name": "stdout",
     "output_type": "stream",
     "text": [
      "0\n",
      "1\n",
      "2\n",
      "3\n",
      "4\n",
      "5\n"
     ]
    }
   ],
   "source": [
    "for i in range(0, 6):\n",
    "    print(i)"
   ]
  },
  {
   "cell_type": "code",
   "execution_count": 51,
   "metadata": {},
   "outputs": [
    {
     "name": "stdout",
     "output_type": "stream",
     "text": [
      "FizzBuzz:0\n",
      "1\n",
      "2\n",
      "Fizz:3\n",
      "4\n",
      "Buzz:5\n"
     ]
    }
   ],
   "source": [
    "for i in range(0, 6):\n",
    "    if i%3==0 and i%5==0:\n",
    "        print (\"FizzBuzz:%d\" %i)\n",
    "    elif i%3 != 0 and i%5!=0:\n",
    "        print(i)\n",
    "    if i%3==0 and i%5!=0:\n",
    "        print (\"Fizz:%d\" %i)\n",
    "    elif i%5==0 and i%3!=0:\n",
    "        print (\"Buzz:%d\" %i)"
   ]
  },
  {
   "cell_type": "code",
   "execution_count": 61,
   "metadata": {},
   "outputs": [
    {
     "name": "stdout",
     "output_type": "stream",
     "text": [
      "1\n",
      "2\n",
      "3:Fizz\n",
      "4\n",
      "5:Buzz\n",
      "6:Fizz\n",
      "7\n",
      "8\n",
      "9:Fizz\n",
      "10:Buzz\n",
      "11\n",
      "12:Fizz\n",
      "13\n",
      "14\n",
      "15:FizzBuzz\n",
      "16\n",
      "17\n",
      "18:Fizz\n",
      "19\n",
      "20:Buzz\n",
      "21:Fizz\n",
      "22\n",
      "23\n",
      "24:Fizz\n",
      "25:Buzz\n",
      "26\n",
      "27:Fizz\n",
      "28\n",
      "29\n",
      "30:FizzBuzz\n",
      "31\n",
      "32\n",
      "33:Fizz\n",
      "34\n",
      "35:Buzz\n",
      "36:Fizz\n",
      "37\n",
      "38\n",
      "39:Fizz\n",
      "40:Buzz\n",
      "41\n",
      "42:Fizz\n",
      "43\n",
      "44\n",
      "45:FizzBuzz\n",
      "46\n",
      "47\n",
      "48:Fizz\n",
      "49\n",
      "50:Buzz\n",
      "51:Fizz\n",
      "52\n",
      "53\n",
      "54:Fizz\n",
      "55:Buzz\n",
      "56\n",
      "57:Fizz\n",
      "58\n",
      "59\n",
      "60:FizzBuzz\n",
      "61\n",
      "62\n",
      "63:Fizz\n",
      "64\n",
      "65:Buzz\n",
      "66:Fizz\n",
      "67\n",
      "68\n",
      "69:Fizz\n",
      "70:Buzz\n",
      "71\n",
      "72:Fizz\n",
      "73\n",
      "74\n",
      "75:FizzBuzz\n",
      "76\n",
      "77\n",
      "78:Fizz\n",
      "79\n",
      "80:Buzz\n",
      "81:Fizz\n",
      "82\n",
      "83\n",
      "84:Fizz\n",
      "85:Buzz\n",
      "86\n",
      "87:Fizz\n",
      "88\n",
      "89\n",
      "90:FizzBuzz\n",
      "91\n",
      "92\n",
      "93:Fizz\n",
      "94\n",
      "95:Buzz\n",
      "96:Fizz\n",
      "97\n",
      "98\n",
      "99:Fizz\n",
      "100:Buzz\n"
     ]
    }
   ],
   "source": [
    "for i in range(1, 101):\n",
    "    if i%3==0 and i%5==0:\n",
    "        print (i, end=\"\")\n",
    "        print (\":FizzBuzz\")\n",
    "    elif i%3 != 0 and i%5!=0:\n",
    "        print(i)\n",
    "    if i%3==0 and i%5!=0:\n",
    "        print (i, end=\"\")\n",
    "        print (\":Fizz\")\n",
    "    elif i%5==0 and i%3!=0:\n",
    "        print (i, end=\"\")\n",
    "        print (\":Buzz\")"
   ]
  },
  {
   "cell_type": "markdown",
   "metadata": {},
   "source": [
    "range() is a built-in function of Python. It is used when a user needs to perform an action for a specific number of times.\n",
    "range() is commonly used in for looping hence, knowledge of same is key aspect when dealing with any kind of Python code. \n",
    "\n",
    "Most common use of range() function in Python is to iterate sequence type (List, string etc.. ) with for and while loop."
   ]
  },
  {
   "cell_type": "code",
   "execution_count": 64,
   "metadata": {},
   "outputs": [
    {
     "name": "stdout",
     "output_type": "stream",
     "text": [
      "0 1 2 3 4 5 6 7 8 9 \n"
     ]
    }
   ],
   "source": [
    "# printing a number \n",
    "for i in range(10): \n",
    "    print(i, end =\" \") \n",
    "print() "
   ]
  },
  {
   "cell_type": "code",
   "execution_count": 66,
   "metadata": {},
   "outputs": [
    {
     "name": "stdout",
     "output_type": "stream",
     "text": [
      "10 20 30 40 \n"
     ]
    }
   ],
   "source": [
    "# using range for iteration \n",
    "l = [10, 20, 30, 40] \n",
    "for i in range(len(l)): \n",
    "    print(l[i], end =\" \") \n",
    "print() "
   ]
  },
  {
   "cell_type": "code",
   "execution_count": 67,
   "metadata": {},
   "outputs": [
    {
     "name": "stdout",
     "output_type": "stream",
     "text": [
      "Sum of first 10 natural number : 55\n"
     ]
    }
   ],
   "source": [
    "# performing sum of natural \n",
    "# number \n",
    "sum = 0\n",
    "for i in range(1, 11): \n",
    "    sum = sum + i \n",
    "print(\"Sum of first 10 natural number :\", sum) "
   ]
  },
  {
   "cell_type": "markdown",
   "metadata": {},
   "source": [
    "There are three ways you can call range() :\n",
    "\n",
    "range(stop) takes one argument.\n",
    "range(start, stop) takes two arguments.\n",
    "range(start, stop, step) takes three arguments.\n",
    "\n",
    "When you call range() with one argument, user will get a series of numbers that starts at 0 and includes every whole number up to, but not including, the number that user have provided as the stop."
   ]
  },
  {
   "cell_type": "code",
   "execution_count": 68,
   "metadata": {},
   "outputs": [
    {
     "name": "stdout",
     "output_type": "stream",
     "text": [
      "0 1 2 3 4 5 6 7 8 9 \n"
     ]
    }
   ],
   "source": [
    "# printing first 10  \n",
    "# whole number \n",
    "for i in range(10): \n",
    "    print(i, end =\" \") \n",
    "print() "
   ]
  },
  {
   "cell_type": "code",
   "execution_count": 69,
   "metadata": {},
   "outputs": [
    {
     "name": "stdout",
     "output_type": "stream",
     "text": [
      "0 3 6 9 12 15 18 21 24 27 \n"
     ]
    }
   ],
   "source": [
    "# using range to print number \n",
    "# divisible by 3 \n",
    "for i in range(0, 30, 3): \n",
    "    print(i, end = \" \") \n",
    "print() "
   ]
  },
  {
   "cell_type": "code",
   "execution_count": 70,
   "metadata": {},
   "outputs": [
    {
     "name": "stdout",
     "output_type": "stream",
     "text": [
      "0 5 10 15 20 25 30 35 40 45 "
     ]
    }
   ],
   "source": [
    "# using range to print number \n",
    "# divisible by 5 \n",
    "for  i in range(0, 50, 5): \n",
    "     print(i, end = \" \") "
   ]
  },
  {
   "cell_type": "code",
   "execution_count": 71,
   "metadata": {},
   "outputs": [
    {
     "name": "stdout",
     "output_type": "stream",
     "text": [
      "1 2 3 4 5 6 7 8 9 10 11 12 13 14 15 16 17 18 19 \n"
     ]
    }
   ],
   "source": [
    "# printing a natural \n",
    "# number upto 20 \n",
    "for i in range(1, 20): \n",
    "    print(i, end =\" \") \n",
    "print() \n",
    "  "
   ]
  },
  {
   "cell_type": "code",
   "execution_count": 72,
   "metadata": {},
   "outputs": [
    {
     "name": "stdout",
     "output_type": "stream",
     "text": [
      "5 6 7 8 9 10 11 12 13 14 15 16 17 18 19 "
     ]
    }
   ],
   "source": [
    "# printing a natural \n",
    "# number from 5 t0 20 \n",
    "for i in range(5, 20): \n",
    "    print(i, end =\" \") "
   ]
  },
  {
   "cell_type": "code",
   "execution_count": null,
   "metadata": {},
   "outputs": [],
   "source": []
  }
 ],
 "metadata": {
  "kernelspec": {
   "display_name": "Python 3",
   "language": "python",
   "name": "python3"
  },
  "language_info": {
   "codemirror_mode": {
    "name": "ipython",
    "version": 3
   },
   "file_extension": ".py",
   "mimetype": "text/x-python",
   "name": "python",
   "nbconvert_exporter": "python",
   "pygments_lexer": "ipython3",
   "version": "3.7.4"
  }
 },
 "nbformat": 4,
 "nbformat_minor": 2
}
